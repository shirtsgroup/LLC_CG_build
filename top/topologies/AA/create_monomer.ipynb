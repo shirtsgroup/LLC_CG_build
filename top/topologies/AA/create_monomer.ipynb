{
 "cells": [
  {
   "cell_type": "code",
   "execution_count": null,
   "id": "8f479a13",
   "metadata": {},
   "outputs": [],
   "source": [
    "# this notebook requires installing openff-toolkit, openeye, openff-interchange and nglview, using the conda-forge channel\n",
    "# You may also need to run `nglview enable` after loading it to load the jupyter extensions"
   ]
  },
  {
   "cell_type": "code",
   "execution_count": 1,
   "id": "d22f7a60",
   "metadata": {},
   "outputs": [],
   "source": [
    "import openff\n",
    "import openeye\n",
    "from openeye import oechem"
   ]
  },
  {
   "cell_type": "code",
   "execution_count": 2,
   "id": "7cb30cb3",
   "metadata": {},
   "outputs": [
    {
     "data": {
      "text/plain": [
       "True"
      ]
     },
     "execution_count": 2,
     "metadata": {},
     "output_type": "execute_result"
    }
   ],
   "source": [
    "# check that this is true!\n",
    "oechem.OEChemIsLicensed()"
   ]
  },
  {
   "cell_type": "code",
   "execution_count": null,
   "id": "d1bf82b9",
   "metadata": {},
   "outputs": [],
   "source": []
  },
  {
   "cell_type": "code",
   "execution_count": 3,
   "id": "c47b5098",
   "metadata": {},
   "outputs": [],
   "source": [
    "from openff.toolkit import Molecule, Topology, ForceField  # warning is OK, we can do it with rdkit\n",
    "from openff.units import unit\n",
    "from openmm.app import PDBFile\n",
    "from sys import stdout\n"
   ]
  },
  {
   "cell_type": "code",
   "execution_count": 4,
   "id": "f08c77fb",
   "metadata": {},
   "outputs": [
    {
     "data": {
      "image/svg+xml": [
       "<svg xmlns=\"http://www.w3.org/2000/svg\" xmlns:rdkit=\"http://www.rdkit.org/xml\" xmlns:xlink=\"http://www.w3.org/1999/xlink\" version=\"1.1\" baseProfile=\"full\" xml:space=\"preserve\" width=\"500px\" height=\"300px\" viewBox=\"0 0 500 300\">\n",
       "<!-- END OF HEADER -->\n",
       "<rect style=\"opacity:1.0;fill:#FFFFFF;stroke:none\" width=\"500.0\" height=\"300.0\" x=\"0.0\" y=\"0.0\"> </rect>\n",
       "<path class=\"bond-0 atom-0 atom-1\" d=\"M 43.3,170.6 L 60.2,160.5\" style=\"fill:none;fill-rule:evenodd;stroke:#000000;stroke-width:2.0px;stroke-linecap:butt;stroke-linejoin:miter;stroke-opacity:1\"/>\n",
       "<path class=\"bond-0 atom-0 atom-1\" d=\"M 47.7,172.1 L 59.5,165.1\" style=\"fill:none;fill-rule:evenodd;stroke:#000000;stroke-width:2.0px;stroke-linecap:butt;stroke-linejoin:miter;stroke-opacity:1\"/>\n",
       "<path class=\"bond-1 atom-1 atom-2\" d=\"M 60.2,160.5 L 77.6,170.5\" style=\"fill:none;fill-rule:evenodd;stroke:#000000;stroke-width:2.0px;stroke-linecap:butt;stroke-linejoin:miter;stroke-opacity:1\"/>\n",
       "<path class=\"bond-2 atom-2 atom-3\" d=\"M 77.6,170.5 L 94.7,160.8\" style=\"fill:none;fill-rule:evenodd;stroke:#000000;stroke-width:2.0px;stroke-linecap:butt;stroke-linejoin:miter;stroke-opacity:1\"/>\n",
       "<path class=\"bond-2 atom-2 atom-3\" d=\"M 78.4,165.9 L 90.4,159.1\" style=\"fill:none;fill-rule:evenodd;stroke:#000000;stroke-width:2.0px;stroke-linecap:butt;stroke-linejoin:miter;stroke-opacity:1\"/>\n",
       "<path class=\"bond-3 atom-3 atom-4\" d=\"M 94.7,160.8 L 95.0,140.9\" style=\"fill:none;fill-rule:evenodd;stroke:#000000;stroke-width:2.0px;stroke-linecap:butt;stroke-linejoin:miter;stroke-opacity:1\"/>\n",
       "<path class=\"bond-4 atom-4 atom-5\" d=\"M 95.0,140.9 L 111.8,130.9\" style=\"fill:none;fill-rule:evenodd;stroke:#000000;stroke-width:2.0px;stroke-linecap:butt;stroke-linejoin:miter;stroke-opacity:1\"/>\n",
       "<path class=\"bond-5 atom-5 atom-6\" d=\"M 111.8,130.9 L 129.2,140.4\" style=\"fill:none;fill-rule:evenodd;stroke:#000000;stroke-width:2.0px;stroke-linecap:butt;stroke-linejoin:miter;stroke-opacity:1\"/>\n",
       "<path class=\"bond-6 atom-6 atom-7\" d=\"M 129.2,140.4 L 146.4,130.5\" style=\"fill:none;fill-rule:evenodd;stroke:#000000;stroke-width:2.0px;stroke-linecap:butt;stroke-linejoin:miter;stroke-opacity:1\"/>\n",
       "<path class=\"bond-7 atom-7 atom-8\" d=\"M 146.4,130.5 L 163.9,140.3\" style=\"fill:none;fill-rule:evenodd;stroke:#000000;stroke-width:2.0px;stroke-linecap:butt;stroke-linejoin:miter;stroke-opacity:1\"/>\n",
       "<path class=\"bond-8 atom-8 atom-9\" d=\"M 163.9,140.3 L 181.2,130.4\" style=\"fill:none;fill-rule:evenodd;stroke:#000000;stroke-width:2.0px;stroke-linecap:butt;stroke-linejoin:miter;stroke-opacity:1\"/>\n",
       "<path class=\"bond-9 atom-9 atom-10\" d=\"M 181.2,130.4 L 198.5,140.2\" style=\"fill:none;fill-rule:evenodd;stroke:#000000;stroke-width:2.0px;stroke-linecap:butt;stroke-linejoin:miter;stroke-opacity:1\"/>\n",
       "<path class=\"bond-10 atom-10 atom-11\" d=\"M 198.5,140.2 L 215.7,130.2\" style=\"fill:none;fill-rule:evenodd;stroke:#000000;stroke-width:2.0px;stroke-linecap:butt;stroke-linejoin:miter;stroke-opacity:1\"/>\n",
       "<path class=\"bond-11 atom-11 atom-12\" d=\"M 215.7,130.2 L 233.1,140.0\" style=\"fill:none;fill-rule:evenodd;stroke:#000000;stroke-width:2.0px;stroke-linecap:butt;stroke-linejoin:miter;stroke-opacity:1\"/>\n",
       "<path class=\"bond-12 atom-12 atom-13\" d=\"M 233.1,140.0 L 250.3,130.1\" style=\"fill:none;fill-rule:evenodd;stroke:#000000;stroke-width:2.0px;stroke-linecap:butt;stroke-linejoin:miter;stroke-opacity:1\"/>\n",
       "<path class=\"bond-13 atom-13 atom-14\" d=\"M 250.3,130.1 L 267.5,139.9\" style=\"fill:none;fill-rule:evenodd;stroke:#000000;stroke-width:2.0px;stroke-linecap:butt;stroke-linejoin:miter;stroke-opacity:1\"/>\n",
       "<path class=\"bond-14 atom-14 atom-15\" d=\"M 267.5,139.9 L 284.8,130.0\" style=\"fill:none;fill-rule:evenodd;stroke:#000000;stroke-width:2.0px;stroke-linecap:butt;stroke-linejoin:miter;stroke-opacity:1\"/>\n",
       "<path class=\"bond-15 atom-15 atom-16\" d=\"M 284.8,130.0 L 302.1,139.8\" style=\"fill:none;fill-rule:evenodd;stroke:#000000;stroke-width:2.0px;stroke-linecap:butt;stroke-linejoin:miter;stroke-opacity:1\"/>\n",
       "<path class=\"bond-16 atom-16 atom-17\" d=\"M 302.1,139.8 L 319.4,129.9\" style=\"fill:none;fill-rule:evenodd;stroke:#000000;stroke-width:2.0px;stroke-linecap:butt;stroke-linejoin:miter;stroke-opacity:1\"/>\n",
       "<path class=\"bond-17 atom-17 atom-18\" d=\"M 319.4,129.9 L 326.2,133.7\" style=\"fill:none;fill-rule:evenodd;stroke:#000000;stroke-width:2.0px;stroke-linecap:butt;stroke-linejoin:miter;stroke-opacity:1\"/>\n",
       "<path class=\"bond-17 atom-17 atom-18\" d=\"M 326.2,133.7 L 333.1,137.5\" style=\"fill:none;fill-rule:evenodd;stroke:#0000FF;stroke-width:2.0px;stroke-linecap:butt;stroke-linejoin:miter;stroke-opacity:1\"/>\n",
       "<path class=\"bond-18 atom-18 atom-19\" d=\"M 345.4,134.8 L 349.8,132.2\" style=\"fill:none;fill-rule:evenodd;stroke:#0000FF;stroke-width:2.0px;stroke-linecap:butt;stroke-linejoin:miter;stroke-opacity:1\"/>\n",
       "<path class=\"bond-18 atom-18 atom-19\" d=\"M 349.8,132.2 L 354.2,129.6\" style=\"fill:none;fill-rule:evenodd;stroke:#000000;stroke-width:2.0px;stroke-linecap:butt;stroke-linejoin:miter;stroke-opacity:1\"/>\n",
       "<path class=\"bond-19 atom-19 atom-20\" d=\"M 354.2,129.6 L 371.8,139.4\" style=\"fill:none;fill-rule:evenodd;stroke:#000000;stroke-width:2.0px;stroke-linecap:butt;stroke-linejoin:miter;stroke-opacity:1\"/>\n",
       "<path class=\"bond-20 atom-20 atom-21\" d=\"M 371.8,139.4 L 388.9,129.5\" style=\"fill:none;fill-rule:evenodd;stroke:#000000;stroke-width:2.0px;stroke-linecap:butt;stroke-linejoin:miter;stroke-opacity:1\"/>\n",
       "<path class=\"bond-21 atom-21 atom-22\" d=\"M 388.9,129.5 L 395.4,133.3\" style=\"fill:none;fill-rule:evenodd;stroke:#000000;stroke-width:2.0px;stroke-linecap:butt;stroke-linejoin:miter;stroke-opacity:1\"/>\n",
       "<path class=\"bond-21 atom-21 atom-22\" d=\"M 395.4,133.3 L 401.8,137.1\" style=\"fill:none;fill-rule:evenodd;stroke:#0000FF;stroke-width:2.0px;stroke-linecap:butt;stroke-linejoin:miter;stroke-opacity:1\"/>\n",
       "<path class=\"bond-22 atom-22 atom-23\" d=\"M 409.5,137.1 L 416.1,133.3\" style=\"fill:none;fill-rule:evenodd;stroke:#0000FF;stroke-width:2.0px;stroke-linecap:butt;stroke-linejoin:miter;stroke-opacity:1\"/>\n",
       "<path class=\"bond-22 atom-22 atom-23\" d=\"M 416.1,133.3 L 422.6,129.5\" style=\"fill:none;fill-rule:evenodd;stroke:#000000;stroke-width:2.0px;stroke-linecap:butt;stroke-linejoin:miter;stroke-opacity:1\"/>\n",
       "<path class=\"bond-23 atom-23 atom-24\" d=\"M 420.8,129.5 L 420.8,122.1\" style=\"fill:none;fill-rule:evenodd;stroke:#000000;stroke-width:2.0px;stroke-linecap:butt;stroke-linejoin:miter;stroke-opacity:1\"/>\n",
       "<path class=\"bond-23 atom-23 atom-24\" d=\"M 420.8,122.1 L 420.8,114.7\" style=\"fill:none;fill-rule:evenodd;stroke:#FF0000;stroke-width:2.0px;stroke-linecap:butt;stroke-linejoin:miter;stroke-opacity:1\"/>\n",
       "<path class=\"bond-23 atom-23 atom-24\" d=\"M 424.4,129.5 L 424.4,122.1\" style=\"fill:none;fill-rule:evenodd;stroke:#000000;stroke-width:2.0px;stroke-linecap:butt;stroke-linejoin:miter;stroke-opacity:1\"/>\n",
       "<path class=\"bond-23 atom-23 atom-24\" d=\"M 424.4,122.1 L 424.3,114.7\" style=\"fill:none;fill-rule:evenodd;stroke:#FF0000;stroke-width:2.0px;stroke-linecap:butt;stroke-linejoin:miter;stroke-opacity:1\"/>\n",
       "<path class=\"bond-24 atom-23 atom-25\" d=\"M 422.6,129.5 L 439.7,139.3\" style=\"fill:none;fill-rule:evenodd;stroke:#000000;stroke-width:2.0px;stroke-linecap:butt;stroke-linejoin:miter;stroke-opacity:1\"/>\n",
       "<path class=\"bond-25 atom-25 atom-26\" d=\"M 439.7,139.3 L 439.6,159.2\" style=\"fill:none;fill-rule:evenodd;stroke:#000000;stroke-width:2.0px;stroke-linecap:butt;stroke-linejoin:miter;stroke-opacity:1\"/>\n",
       "<path class=\"bond-25 atom-25 atom-26\" d=\"M 436.1,142.3 L 436.1,156.2\" style=\"fill:none;fill-rule:evenodd;stroke:#000000;stroke-width:2.0px;stroke-linecap:butt;stroke-linejoin:miter;stroke-opacity:1\"/>\n",
       "<path class=\"bond-26 atom-25 atom-27\" d=\"M 439.7,139.3 L 456.8,129.4\" style=\"fill:none;fill-rule:evenodd;stroke:#000000;stroke-width:2.0px;stroke-linecap:butt;stroke-linejoin:miter;stroke-opacity:1\"/>\n",
       "<path class=\"bond-27 atom-0 atom-28\" d=\"M 43.3,170.6 L 43.5,185.5\" style=\"fill:none;fill-rule:evenodd;stroke:#000000;stroke-width:2.0px;stroke-linecap:butt;stroke-linejoin:miter;stroke-opacity:1\"/>\n",
       "<path class=\"bond-28 atom-0 atom-29\" d=\"M 43.3,170.6 L 30.0,163.1\" style=\"fill:none;fill-rule:evenodd;stroke:#000000;stroke-width:2.0px;stroke-linecap:butt;stroke-linejoin:miter;stroke-opacity:1\"/>\n",
       "<path class=\"bond-29 atom-1 atom-30\" d=\"M 60.2,160.5 L 59.9,145.4\" style=\"fill:none;fill-rule:evenodd;stroke:#000000;stroke-width:2.0px;stroke-linecap:butt;stroke-linejoin:miter;stroke-opacity:1\"/>\n",
       "<path class=\"bond-30 atom-2 atom-31\" d=\"M 77.6,170.5 L 77.6,185.5\" style=\"fill:none;fill-rule:evenodd;stroke:#000000;stroke-width:2.0px;stroke-linecap:butt;stroke-linejoin:miter;stroke-opacity:1\"/>\n",
       "<path class=\"bond-31 atom-3 atom-32\" d=\"M 94.7,160.8 L 107.4,168.4\" style=\"fill:none;fill-rule:evenodd;stroke:#000000;stroke-width:2.0px;stroke-linecap:butt;stroke-linejoin:miter;stroke-opacity:1\"/>\n",
       "<path class=\"bond-32 atom-4 atom-33\" d=\"M 95.0,140.9 L 87.8,128.6\" style=\"fill:none;fill-rule:evenodd;stroke:#000000;stroke-width:2.0px;stroke-linecap:butt;stroke-linejoin:miter;stroke-opacity:1\"/>\n",
       "<path class=\"bond-33 atom-4 atom-34\" d=\"M 95.0,140.9 L 79.7,140.9\" style=\"fill:none;fill-rule:evenodd;stroke:#000000;stroke-width:2.0px;stroke-linecap:butt;stroke-linejoin:miter;stroke-opacity:1\"/>\n",
       "<path class=\"bond-34 atom-5 atom-35\" d=\"M 111.8,130.9 L 118.4,118.5\" style=\"fill:none;fill-rule:evenodd;stroke:#000000;stroke-width:2.0px;stroke-linecap:butt;stroke-linejoin:miter;stroke-opacity:1\"/>\n",
       "<path class=\"bond-35 atom-5 atom-36\" d=\"M 111.8,130.9 L 104.5,118.8\" style=\"fill:none;fill-rule:evenodd;stroke:#000000;stroke-width:2.0px;stroke-linecap:butt;stroke-linejoin:miter;stroke-opacity:1\"/>\n",
       "<path class=\"bond-36 atom-6 atom-37\" d=\"M 129.2,140.4 L 136.0,152.6\" style=\"fill:none;fill-rule:evenodd;stroke:#000000;stroke-width:2.0px;stroke-linecap:butt;stroke-linejoin:miter;stroke-opacity:1\"/>\n",
       "<path class=\"bond-37 atom-6 atom-38\" d=\"M 129.2,140.4 L 122.5,152.5\" style=\"fill:none;fill-rule:evenodd;stroke:#000000;stroke-width:2.0px;stroke-linecap:butt;stroke-linejoin:miter;stroke-opacity:1\"/>\n",
       "<path class=\"bond-38 atom-7 atom-39\" d=\"M 146.4,130.5 L 153.2,118.3\" style=\"fill:none;fill-rule:evenodd;stroke:#000000;stroke-width:2.0px;stroke-linecap:butt;stroke-linejoin:miter;stroke-opacity:1\"/>\n",
       "<path class=\"bond-39 atom-7 atom-40\" d=\"M 146.4,130.5 L 139.7,118.4\" style=\"fill:none;fill-rule:evenodd;stroke:#000000;stroke-width:2.0px;stroke-linecap:butt;stroke-linejoin:miter;stroke-opacity:1\"/>\n",
       "<path class=\"bond-40 atom-8 atom-41\" d=\"M 163.9,140.3 L 170.7,152.3\" style=\"fill:none;fill-rule:evenodd;stroke:#000000;stroke-width:2.0px;stroke-linecap:butt;stroke-linejoin:miter;stroke-opacity:1\"/>\n",
       "<path class=\"bond-41 atom-8 atom-42\" d=\"M 163.9,140.3 L 157.3,152.5\" style=\"fill:none;fill-rule:evenodd;stroke:#000000;stroke-width:2.0px;stroke-linecap:butt;stroke-linejoin:miter;stroke-opacity:1\"/>\n",
       "<path class=\"bond-42 atom-9 atom-43\" d=\"M 181.2,130.4 L 187.8,118.3\" style=\"fill:none;fill-rule:evenodd;stroke:#000000;stroke-width:2.0px;stroke-linecap:butt;stroke-linejoin:miter;stroke-opacity:1\"/>\n",
       "<path class=\"bond-43 atom-9 atom-44\" d=\"M 181.2,130.4 L 174.5,118.3\" style=\"fill:none;fill-rule:evenodd;stroke:#000000;stroke-width:2.0px;stroke-linecap:butt;stroke-linejoin:miter;stroke-opacity:1\"/>\n",
       "<path class=\"bond-44 atom-10 atom-45\" d=\"M 198.5,140.2 L 205.2,152.2\" style=\"fill:none;fill-rule:evenodd;stroke:#000000;stroke-width:2.0px;stroke-linecap:butt;stroke-linejoin:miter;stroke-opacity:1\"/>\n",
       "<path class=\"bond-45 atom-10 atom-46\" d=\"M 198.5,140.2 L 192.0,152.3\" style=\"fill:none;fill-rule:evenodd;stroke:#000000;stroke-width:2.0px;stroke-linecap:butt;stroke-linejoin:miter;stroke-opacity:1\"/>\n",
       "<path class=\"bond-46 atom-11 atom-47\" d=\"M 215.7,130.2 L 222.3,118.2\" style=\"fill:none;fill-rule:evenodd;stroke:#000000;stroke-width:2.0px;stroke-linecap:butt;stroke-linejoin:miter;stroke-opacity:1\"/>\n",
       "<path class=\"bond-47 atom-11 atom-48\" d=\"M 215.7,130.2 L 209.1,118.2\" style=\"fill:none;fill-rule:evenodd;stroke:#000000;stroke-width:2.0px;stroke-linecap:butt;stroke-linejoin:miter;stroke-opacity:1\"/>\n",
       "<path class=\"bond-48 atom-12 atom-49\" d=\"M 233.1,140.0 L 239.7,152.1\" style=\"fill:none;fill-rule:evenodd;stroke:#000000;stroke-width:2.0px;stroke-linecap:butt;stroke-linejoin:miter;stroke-opacity:1\"/>\n",
       "<path class=\"bond-49 atom-12 atom-50\" d=\"M 233.1,140.0 L 226.5,152.1\" style=\"fill:none;fill-rule:evenodd;stroke:#000000;stroke-width:2.0px;stroke-linecap:butt;stroke-linejoin:miter;stroke-opacity:1\"/>\n",
       "<path class=\"bond-50 atom-13 atom-51\" d=\"M 250.3,130.1 L 256.8,118.0\" style=\"fill:none;fill-rule:evenodd;stroke:#000000;stroke-width:2.0px;stroke-linecap:butt;stroke-linejoin:miter;stroke-opacity:1\"/>\n",
       "<path class=\"bond-51 atom-13 atom-52\" d=\"M 250.3,130.1 L 243.6,118.1\" style=\"fill:none;fill-rule:evenodd;stroke:#000000;stroke-width:2.0px;stroke-linecap:butt;stroke-linejoin:miter;stroke-opacity:1\"/>\n",
       "<path class=\"bond-52 atom-14 atom-53\" d=\"M 267.5,139.9 L 274.2,151.9\" style=\"fill:none;fill-rule:evenodd;stroke:#000000;stroke-width:2.0px;stroke-linecap:butt;stroke-linejoin:miter;stroke-opacity:1\"/>\n",
       "<path class=\"bond-53 atom-14 atom-54\" d=\"M 267.5,139.9 L 260.9,152.0\" style=\"fill:none;fill-rule:evenodd;stroke:#000000;stroke-width:2.0px;stroke-linecap:butt;stroke-linejoin:miter;stroke-opacity:1\"/>\n",
       "<path class=\"bond-54 atom-15 atom-55\" d=\"M 284.8,130.0 L 291.4,117.9\" style=\"fill:none;fill-rule:evenodd;stroke:#000000;stroke-width:2.0px;stroke-linecap:butt;stroke-linejoin:miter;stroke-opacity:1\"/>\n",
       "<path class=\"bond-55 atom-15 atom-56\" d=\"M 284.8,130.0 L 278.1,118.0\" style=\"fill:none;fill-rule:evenodd;stroke:#000000;stroke-width:2.0px;stroke-linecap:butt;stroke-linejoin:miter;stroke-opacity:1\"/>\n",
       "<path class=\"bond-56 atom-16 atom-57\" d=\"M 302.1,139.8 L 308.8,151.9\" style=\"fill:none;fill-rule:evenodd;stroke:#000000;stroke-width:2.0px;stroke-linecap:butt;stroke-linejoin:miter;stroke-opacity:1\"/>\n",
       "<path class=\"bond-57 atom-16 atom-58\" d=\"M 302.1,139.8 L 295.5,151.9\" style=\"fill:none;fill-rule:evenodd;stroke:#000000;stroke-width:2.0px;stroke-linecap:butt;stroke-linejoin:miter;stroke-opacity:1\"/>\n",
       "<path class=\"bond-58 atom-17 atom-59\" d=\"M 319.4,129.9 L 326.0,117.7\" style=\"fill:none;fill-rule:evenodd;stroke:#000000;stroke-width:2.0px;stroke-linecap:butt;stroke-linejoin:miter;stroke-opacity:1\"/>\n",
       "<path class=\"bond-59 atom-17 atom-60\" d=\"M 319.4,129.9 L 312.6,117.8\" style=\"fill:none;fill-rule:evenodd;stroke:#000000;stroke-width:2.0px;stroke-linecap:butt;stroke-linejoin:miter;stroke-opacity:1\"/>\n",
       "<path class=\"bond-60 atom-18 atom-61\" d=\"M 339.6,144.5 L 341.7,148.2\" style=\"fill:none;fill-rule:evenodd;stroke:#0000FF;stroke-width:2.0px;stroke-linecap:butt;stroke-linejoin:miter;stroke-opacity:1\"/>\n",
       "<path class=\"bond-60 atom-18 atom-61\" d=\"M 341.7,148.2 L 343.7,151.8\" style=\"fill:none;fill-rule:evenodd;stroke:#000000;stroke-width:2.0px;stroke-linecap:butt;stroke-linejoin:miter;stroke-opacity:1\"/>\n",
       "<path class=\"bond-61 atom-18 atom-62\" d=\"M 334.2,144.5 L 332.2,148.2\" style=\"fill:none;fill-rule:evenodd;stroke:#0000FF;stroke-width:2.0px;stroke-linecap:butt;stroke-linejoin:miter;stroke-opacity:1\"/>\n",
       "<path class=\"bond-61 atom-18 atom-62\" d=\"M 332.2,148.2 L 330.2,151.9\" style=\"fill:none;fill-rule:evenodd;stroke:#000000;stroke-width:2.0px;stroke-linecap:butt;stroke-linejoin:miter;stroke-opacity:1\"/>\n",
       "<path class=\"bond-62 atom-19 atom-63\" d=\"M 354.2,129.6 L 360.9,117.4\" style=\"fill:none;fill-rule:evenodd;stroke:#000000;stroke-width:2.0px;stroke-linecap:butt;stroke-linejoin:miter;stroke-opacity:1\"/>\n",
       "<path class=\"bond-63 atom-19 atom-64\" d=\"M 354.2,129.6 L 347.3,117.6\" style=\"fill:none;fill-rule:evenodd;stroke:#000000;stroke-width:2.0px;stroke-linecap:butt;stroke-linejoin:miter;stroke-opacity:1\"/>\n",
       "<path class=\"bond-64 atom-20 atom-65\" d=\"M 371.8,139.4 L 379.0,151.6\" style=\"fill:none;fill-rule:evenodd;stroke:#000000;stroke-width:2.0px;stroke-linecap:butt;stroke-linejoin:miter;stroke-opacity:1\"/>\n",
       "<path class=\"bond-65 atom-20 atom-66\" d=\"M 371.8,139.4 L 365.0,151.8\" style=\"fill:none;fill-rule:evenodd;stroke:#000000;stroke-width:2.0px;stroke-linecap:butt;stroke-linejoin:miter;stroke-opacity:1\"/>\n",
       "<path class=\"bond-66 atom-21 atom-67\" d=\"M 388.9,129.5 L 396.1,117.3\" style=\"fill:none;fill-rule:evenodd;stroke:#000000;stroke-width:2.0px;stroke-linecap:butt;stroke-linejoin:miter;stroke-opacity:1\"/>\n",
       "<path class=\"bond-67 atom-21 atom-68\" d=\"M 388.9,129.5 L 382.1,117.3\" style=\"fill:none;fill-rule:evenodd;stroke:#000000;stroke-width:2.0px;stroke-linecap:butt;stroke-linejoin:miter;stroke-opacity:1\"/>\n",
       "<path class=\"bond-68 atom-22 atom-69\" d=\"M 405.6,144.2 L 405.6,149.3\" style=\"fill:none;fill-rule:evenodd;stroke:#0000FF;stroke-width:2.0px;stroke-linecap:butt;stroke-linejoin:miter;stroke-opacity:1\"/>\n",
       "<path class=\"bond-68 atom-22 atom-69\" d=\"M 405.6,149.3 L 405.6,154.3\" style=\"fill:none;fill-rule:evenodd;stroke:#000000;stroke-width:2.0px;stroke-linecap:butt;stroke-linejoin:miter;stroke-opacity:1\"/>\n",
       "<path class=\"bond-69 atom-26 atom-70\" d=\"M 439.6,159.2 L 452.9,166.8\" style=\"fill:none;fill-rule:evenodd;stroke:#000000;stroke-width:2.0px;stroke-linecap:butt;stroke-linejoin:miter;stroke-opacity:1\"/>\n",
       "<path class=\"bond-70 atom-26 atom-71\" d=\"M 439.6,159.2 L 426.4,166.9\" style=\"fill:none;fill-rule:evenodd;stroke:#000000;stroke-width:2.0px;stroke-linecap:butt;stroke-linejoin:miter;stroke-opacity:1\"/>\n",
       "<path class=\"bond-71 atom-27 atom-72\" d=\"M 456.8,129.4 L 449.6,117.1\" style=\"fill:none;fill-rule:evenodd;stroke:#000000;stroke-width:2.0px;stroke-linecap:butt;stroke-linejoin:miter;stroke-opacity:1\"/>\n",
       "<path class=\"bond-72 atom-27 atom-73\" d=\"M 456.8,129.4 L 463.8,117.0\" style=\"fill:none;fill-rule:evenodd;stroke:#000000;stroke-width:2.0px;stroke-linecap:butt;stroke-linejoin:miter;stroke-opacity:1\"/>\n",
       "<path class=\"bond-73 atom-27 atom-74\" d=\"M 456.8,129.4 L 470.0,137.0\" style=\"fill:none;fill-rule:evenodd;stroke:#000000;stroke-width:2.0px;stroke-linecap:butt;stroke-linejoin:miter;stroke-opacity:1\"/>\n",
       "<path class=\"atom-18\" d=\"M 335.0 135.5 L 337.8 139.9 Q 338.1 140.4, 338.5 141.2 Q 339.0 142.0, 339.0 142.0 L 339.0 135.5 L 340.1 135.5 L 340.1 143.9 L 338.9 143.9 L 336.0 139.0 Q 335.6 138.4, 335.3 137.8 Q 334.9 137.1, 334.8 136.9 L 334.8 143.9 L 333.7 143.9 L 333.7 135.5 L 335.0 135.5 \" fill=\"#0000FF\"/>\n",
       "<path class=\"atom-18\" d=\"M 341.1 137.0 L 342.6 137.0 L 342.6 135.4 L 343.2 135.4 L 343.2 137.0 L 344.8 137.0 L 344.8 137.5 L 343.2 137.5 L 343.2 139.1 L 342.6 139.1 L 342.6 137.5 L 341.1 137.5 L 341.1 137.0 \" fill=\"#0000FF\"/>\n",
       "<path class=\"atom-22\" d=\"M 403.8 135.1 L 406.6 139.6 Q 406.8 140.0, 407.3 140.8 Q 407.7 141.6, 407.8 141.7 L 407.8 135.1 L 408.9 135.1 L 408.9 143.6 L 407.7 143.6 L 404.7 138.7 Q 404.4 138.1, 404.0 137.4 Q 403.7 136.8, 403.6 136.6 L 403.6 143.6 L 402.5 143.6 L 402.5 135.1 L 403.8 135.1 \" fill=\"#0000FF\"/>\n",
       "<path class=\"atom-24\" d=\"M 418.7 109.7 Q 418.7 107.6, 419.7 106.5 Q 420.7 105.4, 422.5 105.4 Q 424.4 105.4, 425.4 106.5 Q 426.4 107.6, 426.4 109.7 Q 426.4 111.7, 425.4 112.9 Q 424.4 114.0, 422.5 114.0 Q 420.7 114.0, 419.7 112.9 Q 418.7 111.7, 418.7 109.7 M 422.5 113.1 Q 423.8 113.1, 424.5 112.2 Q 425.2 111.4, 425.2 109.7 Q 425.2 108.0, 424.5 107.2 Q 423.8 106.3, 422.5 106.3 Q 421.2 106.3, 420.5 107.2 Q 419.8 108.0, 419.8 109.7 Q 419.8 111.4, 420.5 112.2 Q 421.2 113.1, 422.5 113.1 \" fill=\"#FF0000\"/>\n",
       "<path class=\"atom-28\" d=\"M 40.3 186.2 L 41.5 186.2 L 41.5 189.8 L 45.8 189.8 L 45.8 186.2 L 46.9 186.2 L 46.9 194.6 L 45.8 194.6 L 45.8 190.7 L 41.5 190.7 L 41.5 194.6 L 40.3 194.6 L 40.3 186.2 \" fill=\"#000000\"/>\n",
       "<path class=\"atom-29\" d=\"M 22.7 156.7 L 23.9 156.7 L 23.9 160.2 L 28.2 160.2 L 28.2 156.7 L 29.3 156.7 L 29.3 165.1 L 28.2 165.1 L 28.2 161.2 L 23.9 161.2 L 23.9 165.1 L 22.7 165.1 L 22.7 156.7 \" fill=\"#000000\"/>\n",
       "<path class=\"atom-30\" d=\"M 56.5 136.3 L 57.7 136.3 L 57.7 139.9 L 62.0 139.9 L 62.0 136.3 L 63.1 136.3 L 63.1 144.7 L 62.0 144.7 L 62.0 140.8 L 57.7 140.8 L 57.7 144.7 L 56.5 144.7 L 56.5 136.3 \" fill=\"#000000\"/>\n",
       "<path class=\"atom-31\" d=\"M 74.3 186.1 L 75.4 186.1 L 75.4 189.7 L 79.8 189.7 L 79.8 186.1 L 80.9 186.1 L 80.9 194.5 L 79.8 194.5 L 79.8 190.7 L 75.4 190.7 L 75.4 194.5 L 74.3 194.5 L 74.3 186.1 \" fill=\"#000000\"/>\n",
       "<path class=\"atom-32\" d=\"M 108.1 166.6 L 109.2 166.6 L 109.2 170.2 L 113.5 170.2 L 113.5 166.6 L 114.7 166.6 L 114.7 175.0 L 113.5 175.0 L 113.5 171.1 L 109.2 171.1 L 109.2 175.0 L 108.1 175.0 L 108.1 166.6 \" fill=\"#000000\"/>\n",
       "<path class=\"atom-33\" d=\"M 81.7 119.5 L 82.8 119.5 L 82.8 123.1 L 87.2 123.1 L 87.2 119.5 L 88.3 119.5 L 88.3 128.0 L 87.2 128.0 L 87.2 124.1 L 82.8 124.1 L 82.8 128.0 L 81.7 128.0 L 81.7 119.5 \" fill=\"#000000\"/>\n",
       "<path class=\"atom-34\" d=\"M 72.4 136.6 L 73.6 136.6 L 73.6 140.2 L 77.9 140.2 L 77.9 136.6 L 79.0 136.6 L 79.0 145.1 L 77.9 145.1 L 77.9 141.2 L 73.6 141.2 L 73.6 145.1 L 72.4 145.1 L 72.4 136.6 \" fill=\"#000000\"/>\n",
       "<path class=\"atom-35\" d=\"M 117.7 109.4 L 118.9 109.4 L 118.9 113.0 L 123.2 113.0 L 123.2 109.4 L 124.3 109.4 L 124.3 117.8 L 123.2 117.8 L 123.2 113.9 L 118.9 113.9 L 118.9 117.8 L 117.7 117.8 L 117.7 109.4 \" fill=\"#000000\"/>\n",
       "<path class=\"atom-36\" d=\"M 98.2 109.7 L 99.4 109.7 L 99.4 113.3 L 103.7 113.3 L 103.7 109.7 L 104.8 109.7 L 104.8 118.1 L 103.7 118.1 L 103.7 114.2 L 99.4 114.2 L 99.4 118.1 L 98.2 118.1 L 98.2 109.7 \" fill=\"#000000\"/>\n",
       "<path class=\"atom-37\" d=\"M 135.5 153.2 L 136.6 153.2 L 136.6 156.8 L 140.9 156.8 L 140.9 153.2 L 142.1 153.2 L 142.1 161.6 L 140.9 161.6 L 140.9 157.7 L 136.6 157.7 L 136.6 161.6 L 135.5 161.6 L 135.5 153.2 \" fill=\"#000000\"/>\n",
       "<path class=\"atom-38\" d=\"M 116.5 153.2 L 117.7 153.2 L 117.7 156.8 L 122.0 156.8 L 122.0 153.2 L 123.1 153.2 L 123.1 161.6 L 122.0 161.6 L 122.0 157.7 L 117.7 157.7 L 117.7 161.6 L 116.5 161.6 L 116.5 153.2 \" fill=\"#000000\"/>\n",
       "<path class=\"atom-39\" d=\"M 152.5 109.2 L 153.7 109.2 L 153.7 112.8 L 158.0 112.8 L 158.0 109.2 L 159.2 109.2 L 159.2 117.7 L 158.0 117.7 L 158.0 113.8 L 153.7 113.8 L 153.7 117.7 L 152.5 117.7 L 152.5 109.2 \" fill=\"#000000\"/>\n",
       "<path class=\"atom-40\" d=\"M 133.6 109.3 L 134.8 109.3 L 134.8 112.9 L 139.1 112.9 L 139.1 109.3 L 140.2 109.3 L 140.2 117.7 L 139.1 117.7 L 139.1 113.8 L 134.8 113.8 L 134.8 117.7 L 133.6 117.7 L 133.6 109.3 \" fill=\"#000000\"/>\n",
       "<path class=\"atom-41\" d=\"M 170.1 153.0 L 171.2 153.0 L 171.2 156.6 L 175.5 156.6 L 175.5 153.0 L 176.7 153.0 L 176.7 161.4 L 175.5 161.4 L 175.5 157.5 L 171.2 157.5 L 171.2 161.4 L 170.1 161.4 L 170.1 153.0 \" fill=\"#000000\"/>\n",
       "<path class=\"atom-42\" d=\"M 151.3 153.1 L 152.5 153.1 L 152.5 156.7 L 156.8 156.7 L 156.8 153.1 L 158.0 153.1 L 158.0 161.6 L 156.8 161.6 L 156.8 157.7 L 152.5 157.7 L 152.5 161.6 L 151.3 161.6 L 151.3 153.1 \" fill=\"#000000\"/>\n",
       "<path class=\"atom-43\" d=\"M 187.2 109.2 L 188.3 109.2 L 188.3 112.8 L 192.6 112.8 L 192.6 109.2 L 193.8 109.2 L 193.8 117.6 L 192.6 117.6 L 192.6 113.7 L 188.3 113.7 L 188.3 117.6 L 187.2 117.6 L 187.2 109.2 \" fill=\"#000000\"/>\n",
       "<path class=\"atom-44\" d=\"M 168.5 109.2 L 169.6 109.2 L 169.6 112.8 L 173.9 112.8 L 173.9 109.2 L 175.1 109.2 L 175.1 117.7 L 173.9 117.7 L 173.9 113.8 L 169.6 113.8 L 169.6 117.7 L 168.5 117.7 L 168.5 109.2 \" fill=\"#000000\"/>\n",
       "<path class=\"atom-45\" d=\"M 204.6 152.8 L 205.7 152.8 L 205.7 156.4 L 210.1 156.4 L 210.1 152.8 L 211.2 152.8 L 211.2 161.3 L 210.1 161.3 L 210.1 157.4 L 205.7 157.4 L 205.7 161.3 L 204.6 161.3 L 204.6 152.8 \" fill=\"#000000\"/>\n",
       "<path class=\"atom-46\" d=\"M 186.0 152.9 L 187.2 152.9 L 187.2 156.5 L 191.5 156.5 L 191.5 152.9 L 192.6 152.9 L 192.6 161.3 L 191.5 161.3 L 191.5 157.4 L 187.2 157.4 L 187.2 161.3 L 186.0 161.3 L 186.0 152.9 \" fill=\"#000000\"/>\n",
       "<path class=\"atom-47\" d=\"M 221.7 109.1 L 222.8 109.1 L 222.8 112.7 L 227.1 112.7 L 227.1 109.1 L 228.3 109.1 L 228.3 117.5 L 227.1 117.5 L 227.1 113.6 L 222.8 113.6 L 222.8 117.5 L 221.7 117.5 L 221.7 109.1 \" fill=\"#000000\"/>\n",
       "<path class=\"atom-48\" d=\"M 203.1 109.1 L 204.2 109.1 L 204.2 112.7 L 208.5 112.7 L 208.5 109.1 L 209.7 109.1 L 209.7 117.6 L 208.5 117.6 L 208.5 113.7 L 204.2 113.7 L 204.2 117.6 L 203.1 117.6 L 203.1 109.1 \" fill=\"#000000\"/>\n",
       "<path class=\"atom-49\" d=\"M 239.1 152.7 L 240.3 152.7 L 240.3 156.3 L 244.6 156.3 L 244.6 152.7 L 245.7 152.7 L 245.7 161.1 L 244.6 161.1 L 244.6 157.2 L 240.3 157.2 L 240.3 161.1 L 239.1 161.1 L 239.1 152.7 \" fill=\"#000000\"/>\n",
       "<path class=\"atom-50\" d=\"M 220.5 152.8 L 221.7 152.8 L 221.7 156.4 L 226.0 156.4 L 226.0 152.8 L 227.1 152.8 L 227.1 161.2 L 226.0 161.2 L 226.0 157.3 L 221.7 157.3 L 221.7 161.2 L 220.5 161.2 L 220.5 152.8 \" fill=\"#000000\"/>\n",
       "<path class=\"atom-51\" d=\"M 256.2 109.0 L 257.3 109.0 L 257.3 112.6 L 261.6 112.6 L 261.6 109.0 L 262.8 109.0 L 262.8 117.4 L 261.6 117.4 L 261.6 113.5 L 257.3 113.5 L 257.3 117.4 L 256.2 117.4 L 256.2 109.0 \" fill=\"#000000\"/>\n",
       "<path class=\"atom-52\" d=\"M 237.6 109.0 L 238.7 109.0 L 238.7 112.6 L 243.1 112.6 L 243.1 109.0 L 244.2 109.0 L 244.2 117.5 L 243.1 117.5 L 243.1 113.6 L 238.7 113.6 L 238.7 117.5 L 237.6 117.5 L 237.6 109.0 \" fill=\"#000000\"/>\n",
       "<path class=\"atom-53\" d=\"M 273.6 152.6 L 274.7 152.6 L 274.7 156.2 L 279.0 156.2 L 279.0 152.6 L 280.2 152.6 L 280.2 161.0 L 279.0 161.0 L 279.0 157.1 L 274.7 157.1 L 274.7 161.0 L 273.6 161.0 L 273.6 152.6 \" fill=\"#000000\"/>\n",
       "<path class=\"atom-54\" d=\"M 255.0 152.7 L 256.1 152.7 L 256.1 156.2 L 260.4 156.2 L 260.4 152.7 L 261.6 152.7 L 261.6 161.1 L 260.4 161.1 L 260.4 157.2 L 256.1 157.2 L 256.1 161.1 L 255.0 161.1 L 255.0 152.7 \" fill=\"#000000\"/>\n",
       "<path class=\"atom-55\" d=\"M 290.7 108.8 L 291.9 108.8 L 291.9 112.4 L 296.2 112.4 L 296.2 108.8 L 297.3 108.8 L 297.3 117.3 L 296.2 117.3 L 296.2 113.4 L 291.9 113.4 L 291.9 117.3 L 290.7 117.3 L 290.7 108.8 \" fill=\"#000000\"/>\n",
       "<path class=\"atom-56\" d=\"M 272.1 108.9 L 273.2 108.9 L 273.2 112.5 L 277.5 112.5 L 277.5 108.9 L 278.7 108.9 L 278.7 117.3 L 277.5 117.3 L 277.5 113.4 L 273.2 113.4 L 273.2 117.3 L 272.1 117.3 L 272.1 108.9 \" fill=\"#000000\"/>\n",
       "<path class=\"atom-57\" d=\"M 308.3 152.5 L 309.4 152.5 L 309.4 156.1 L 313.7 156.1 L 313.7 152.5 L 314.9 152.5 L 314.9 161.0 L 313.7 161.0 L 313.7 157.1 L 309.4 157.1 L 309.4 161.0 L 308.3 161.0 L 308.3 152.5 \" fill=\"#000000\"/>\n",
       "<path class=\"atom-58\" d=\"M 289.5 152.6 L 290.7 152.6 L 290.7 156.2 L 295.0 156.2 L 295.0 152.6 L 296.1 152.6 L 296.1 161.0 L 295.0 161.0 L 295.0 157.1 L 290.7 157.1 L 290.7 161.0 L 289.5 161.0 L 289.5 152.6 \" fill=\"#000000\"/>\n",
       "<path class=\"atom-59\" d=\"M 325.4 108.6 L 326.5 108.6 L 326.5 112.2 L 330.8 112.2 L 330.8 108.6 L 332.0 108.6 L 332.0 117.0 L 330.8 117.0 L 330.8 113.1 L 326.5 113.1 L 326.5 117.0 L 325.4 117.0 L 325.4 108.6 \" fill=\"#000000\"/>\n",
       "<path class=\"atom-60\" d=\"M 306.6 108.7 L 307.7 108.7 L 307.7 112.3 L 312.0 112.3 L 312.0 108.7 L 313.2 108.7 L 313.2 117.2 L 312.0 117.2 L 312.0 113.3 L 307.7 113.3 L 307.7 117.2 L 306.6 117.2 L 306.6 108.7 \" fill=\"#000000\"/>\n",
       "<path class=\"atom-61\" d=\"M 343.2 152.5 L 344.3 152.5 L 344.3 156.0 L 348.6 156.0 L 348.6 152.5 L 349.8 152.5 L 349.8 160.9 L 348.6 160.9 L 348.6 157.0 L 344.3 157.0 L 344.3 160.9 L 343.2 160.9 L 343.2 152.5 \" fill=\"#000000\"/>\n",
       "<path class=\"atom-62\" d=\"M 324.2 152.5 L 325.3 152.5 L 325.3 156.1 L 329.6 156.1 L 329.6 152.5 L 330.8 152.5 L 330.8 161.0 L 329.6 161.0 L 329.6 157.1 L 325.3 157.1 L 325.3 161.0 L 324.2 161.0 L 324.2 152.5 \" fill=\"#000000\"/>\n",
       "<path class=\"atom-63\" d=\"M 360.2 108.3 L 361.3 108.3 L 361.3 111.9 L 365.6 111.9 L 365.6 108.3 L 366.8 108.3 L 366.8 116.7 L 365.6 116.7 L 365.6 112.8 L 361.3 112.8 L 361.3 116.7 L 360.2 116.7 L 360.2 108.3 \" fill=\"#000000\"/>\n",
       "<path class=\"atom-64\" d=\"M 341.2 108.5 L 342.4 108.5 L 342.4 112.1 L 346.7 112.1 L 346.7 108.5 L 347.8 108.5 L 347.8 117.0 L 346.7 117.0 L 346.7 113.1 L 342.4 113.1 L 342.4 117.0 L 341.2 117.0 L 341.2 108.5 \" fill=\"#000000\"/>\n",
       "<path class=\"atom-65\" d=\"M 378.5 152.3 L 379.7 152.3 L 379.7 155.9 L 384.0 155.9 L 384.0 152.3 L 385.1 152.3 L 385.1 160.7 L 384.0 160.7 L 384.0 156.8 L 379.7 156.8 L 379.7 160.7 L 378.5 160.7 L 378.5 152.3 \" fill=\"#000000\"/>\n",
       "<path class=\"atom-66\" d=\"M 359.1 152.4 L 360.2 152.4 L 360.2 156.0 L 364.5 156.0 L 364.5 152.4 L 365.7 152.4 L 365.7 160.9 L 364.5 160.9 L 364.5 157.0 L 360.2 157.0 L 360.2 160.9 L 359.1 160.9 L 359.1 152.4 \" fill=\"#000000\"/>\n",
       "<path class=\"atom-67\" d=\"M 395.6 108.2 L 396.8 108.2 L 396.8 111.8 L 401.1 111.8 L 401.1 108.2 L 402.2 108.2 L 402.2 116.6 L 401.1 116.6 L 401.1 112.7 L 396.8 112.7 L 396.8 116.6 L 395.6 116.6 L 395.6 108.2 \" fill=\"#000000\"/>\n",
       "<path class=\"atom-68\" d=\"M 376.1 108.2 L 377.2 108.2 L 377.2 111.8 L 381.5 111.8 L 381.5 108.2 L 382.7 108.2 L 382.7 116.6 L 381.5 116.6 L 381.5 112.7 L 377.2 112.7 L 377.2 116.6 L 376.1 116.6 L 376.1 108.2 \" fill=\"#000000\"/>\n",
       "<path class=\"atom-69\" d=\"M 402.3 155.0 L 403.4 155.0 L 403.4 158.6 L 407.7 158.6 L 407.7 155.0 L 408.9 155.0 L 408.9 163.4 L 407.7 163.4 L 407.7 159.5 L 403.4 159.5 L 403.4 163.4 L 402.3 163.4 L 402.3 155.0 \" fill=\"#000000\"/>\n",
       "<path class=\"atom-70\" d=\"M 453.5 164.9 L 454.7 164.9 L 454.7 168.5 L 459.0 168.5 L 459.0 164.9 L 460.1 164.9 L 460.1 173.3 L 459.0 173.3 L 459.0 169.4 L 454.7 169.4 L 454.7 173.3 L 453.5 173.3 L 453.5 164.9 \" fill=\"#000000\"/>\n",
       "<path class=\"atom-71\" d=\"M 419.1 164.9 L 420.3 164.9 L 420.3 168.5 L 424.6 168.5 L 424.6 164.9 L 425.7 164.9 L 425.7 173.4 L 424.6 173.4 L 424.6 169.5 L 420.3 169.5 L 420.3 173.4 L 419.1 173.4 L 419.1 164.9 \" fill=\"#000000\"/>\n",
       "<path class=\"atom-72\" d=\"M 443.4 108.0 L 444.6 108.0 L 444.6 111.6 L 448.9 111.6 L 448.9 108.0 L 450.0 108.0 L 450.0 116.4 L 448.9 116.4 L 448.9 112.5 L 444.6 112.5 L 444.6 116.4 L 443.4 116.4 L 443.4 108.0 \" fill=\"#000000\"/>\n",
       "<path class=\"atom-73\" d=\"M 463.3 107.9 L 464.4 107.9 L 464.4 111.5 L 468.7 111.5 L 468.7 107.9 L 469.9 107.9 L 469.9 116.3 L 468.7 116.3 L 468.7 112.4 L 464.4 112.4 L 464.4 116.3 L 463.3 116.3 L 463.3 107.9 \" fill=\"#000000\"/>\n",
       "<path class=\"atom-74\" d=\"M 470.7 135.0 L 471.8 135.0 L 471.8 138.6 L 476.1 138.6 L 476.1 135.0 L 477.3 135.0 L 477.3 143.4 L 476.1 143.4 L 476.1 139.5 L 471.8 139.5 L 471.8 143.4 L 470.7 143.4 L 470.7 135.0 \" fill=\"#000000\"/>\n",
       "</svg>"
      ],
      "text/plain": [
       "<IPython.core.display.SVG object>"
      ]
     },
     "execution_count": 4,
     "metadata": {},
     "output_type": "execute_result"
    }
   ],
   "source": [
    "# create the molecule with RDkit from the SMILES. \n",
    "Molecule = openff.toolkit.topology.Molecule\n",
    "mymol = Molecule.from_smiles('C=C/C=C\\CCCCCCCCCCCCCC[NH2+]CCCNC(=O)C(=C)C')\n",
    "mymol.visualize()"
   ]
  },
  {
   "cell_type": "code",
   "execution_count": 5,
   "id": "e3675464",
   "metadata": {},
   "outputs": [
    {
     "data": {
      "image/svg+xml": [
       "<svg xmlns=\"http://www.w3.org/2000/svg\" xmlns:rdkit=\"http://www.rdkit.org/xml\" xmlns:xlink=\"http://www.w3.org/1999/xlink\" version=\"1.1\" baseProfile=\"full\" xml:space=\"preserve\" width=\"500px\" height=\"300px\" viewBox=\"0 0 500 300\">\n",
       "<!-- END OF HEADER -->\n",
       "<rect style=\"opacity:1.0;fill:#FFFFFF;stroke:none\" width=\"500.0\" height=\"300.0\" x=\"0.0\" y=\"0.0\"> </rect>\n",
       "<path class=\"atom-0\" d=\"M 242.2 149.3 Q 244.9 150.0, 246.3 151.7 Q 247.7 153.4, 247.7 155.8 Q 247.7 159.7, 245.1 162.0 Q 242.7 164.2, 237.9 164.2 L 228.4 164.2 L 228.4 135.8 L 236.8 135.8 Q 241.6 135.8, 244.1 137.8 Q 246.5 139.8, 246.5 143.4 Q 246.5 147.6, 242.2 149.3 M 232.2 139.0 L 232.2 147.9 L 236.8 147.9 Q 239.6 147.9, 241.0 146.8 Q 242.5 145.6, 242.5 143.4 Q 242.5 139.0, 236.8 139.0 L 232.2 139.0 M 237.9 161.0 Q 240.7 161.0, 242.2 159.6 Q 243.7 158.3, 243.7 155.8 Q 243.7 153.5, 242.0 152.3 Q 240.4 151.1, 237.3 151.1 L 232.2 151.1 L 232.2 161.0 L 237.9 161.0 \" fill=\"#7F4C19\"/>\n",
       "<path class=\"atom-0\" d=\"M 252.5 143.6 L 253.0 146.4 Q 255.1 143.2, 258.7 143.2 Q 259.8 143.2, 261.3 143.6 L 260.7 147.0 Q 259.0 146.6, 258.0 146.6 Q 256.3 146.6, 255.2 147.3 Q 254.1 147.9, 253.3 149.5 L 253.3 164.2 L 249.5 164.2 L 249.5 143.6 L 252.5 143.6 \" fill=\"#7F4C19\"/>\n",
       "<path class=\"atom-0\" d=\"M 261.9 144.2 L 271.6 144.2 L 271.6 146.3 L 261.9 146.3 L 261.9 144.2 \" fill=\"#7F4C19\"/>\n",
       "</svg>"
      ],
      "text/plain": [
       "<IPython.core.display.SVG object>"
      ]
     },
     "execution_count": 5,
     "metadata": {},
     "output_type": "execute_result"
    }
   ],
   "source": [
    "# create the counterion\n",
    "mymol2 = Molecule.from_smiles('[Br-]')\n",
    "mymol2.visualize()"
   ]
  },
  {
   "cell_type": "code",
   "execution_count": 6,
   "id": "931c8c7e",
   "metadata": {},
   "outputs": [],
   "source": [
    "# join the 2 in an OpenFF topology.\n",
    "off_topology = Topology()\n",
    "mols = [mymol,mymol2]\n",
    "molecule_topology_indices = [off_topology.add_molecule(mols[index]) for index in range(2)]"
   ]
  },
  {
   "cell_type": "code",
   "execution_count": null,
   "id": "f91499db",
   "metadata": {},
   "outputs": [],
   "source": [
    "# convert it to RDkit form"
   ]
  },
  {
   "cell_type": "code",
   "execution_count": 7,
   "id": "af1bc8ad",
   "metadata": {},
   "outputs": [],
   "source": [
    "mymol_rd = mymol.to_rdkit()"
   ]
  },
  {
   "cell_type": "code",
   "execution_count": 8,
   "id": "c9c26e9d",
   "metadata": {},
   "outputs": [],
   "source": [
    "# load relevant RDkit commands\n",
    "import rdkit\n",
    "import rdkit.Chem as Chem\n",
    "import rdkit.Chem.AllChem as AllChem"
   ]
  },
  {
   "cell_type": "code",
   "execution_count": 9,
   "id": "e729430e",
   "metadata": {},
   "outputs": [
    {
     "name": "stdout",
     "output_type": "stream",
     "text": [
      "\n",
      "     RDKit          3D\n",
      "\n",
      " 75 74  0  0  0  0  0  0  0  0999 V2000\n",
      "    9.5243   -1.7477   -1.3001 C   0  0  0  0  0  0  0  0  0  0  0  0\n",
      "    9.7417   -0.5144   -1.4332 C   0  0  0  0  0  0  0  0  0  0  0  0\n",
      "    9.9831    0.8442   -1.5830 C   0  0  0  0  0  0  0  0  0  0  0  0\n",
      "    9.5297    1.7567   -0.6585 C   0  0  0  0  0  0  0  0  0  0  0  0\n",
      "    8.7974    1.1946    0.4621 C   0  0  0  0  0  0  0  0  0  0  0  0\n",
      "    7.3428    1.7004    0.5748 C   0  0  0  0  0  0  0  0  0  0  0  0\n",
      "    6.7624    0.9362    1.7227 C   0  0  0  0  0  0  0  0  0  0  0  0\n",
      "    5.3550    1.2282    2.0722 C   0  0  0  0  0  0  0  0  0  0  0  0\n",
      "    4.3779    1.0387    0.9713 C   0  0  0  0  0  0  0  0  0  0  0  0\n",
      "    4.4545   -0.3692    0.4215 C   0  0  0  0  0  0  0  0  0  0  0  0\n",
      "    3.4569   -0.5649   -0.7060 C   0  0  0  0  0  0  0  0  0  0  0  0\n",
      "    2.0240   -0.4210   -0.2613 C   0  0  0  0  0  0  0  0  0  0  0  0\n",
      "    1.1478   -0.5662   -1.4913 C   0  0  0  0  0  0  0  0  0  0  0  0\n",
      "   -0.3157   -0.5106   -1.1467 C   0  0  0  0  0  0  0  0  0  0  0  0\n",
      "   -0.7455    0.7287   -0.4279 C   0  0  0  0  0  0  0  0  0  0  0  0\n",
      "   -2.2452    0.5848   -0.1631 C   0  0  0  0  0  0  0  0  0  0  0  0\n",
      "   -3.0548    0.5016   -1.4106 C   0  0  0  0  0  0  0  0  0  0  0  0\n",
      "   -4.5161    0.3369   -1.0344 C   0  0  0  0  0  0  0  0  0  0  0  0\n",
      "   -4.7875   -0.8855   -0.3293 N   0  0  0  0  0  4  0  0  0  0  0  0\n",
      "   -5.2931   -0.7132    0.9968 C   0  0  0  0  0  0  0  0  0  0  0  0\n",
      "   -6.0352   -1.8700    1.5313 C   0  0  0  0  0  0  0  0  0  0  0  0\n",
      "   -7.2753   -2.3672    0.9266 C   0  0  0  0  0  0  0  0  0  0  0  0\n",
      "   -8.4125   -1.5400    0.9032 N   0  0  0  0  0  0  0  0  0  0  0  0\n",
      "   -8.5950   -0.3573    0.1831 C   0  0  0  0  0  0  0  0  0  0  0  0\n",
      "   -7.6820    0.0801   -0.5925 O   0  0  0  0  0  0  0  0  0  0  0  0\n",
      "   -9.8250    0.4058    0.2992 C   0  0  0  0  0  0  0  0  0  0  0  0\n",
      "  -10.8079    0.0608    1.0541 C   0  0  0  0  0  0  0  0  0  0  0  0\n",
      "   -9.9583    1.6607   -0.4893 C   0  0  0  0  0  0  0  0  0  0  0  0\n",
      "    9.7651   -2.6497   -1.8595 H   0  0  0  0  0  0  0  0  0  0  0  0\n",
      "    8.9189   -2.0603   -0.3866 H   0  0  0  0  0  0  0  0  0  0  0  0\n",
      "   10.4626   -0.8314   -2.6057 H   0  0  0  0  0  0  0  0  0  0  0  0\n",
      "   10.5338    1.3199   -2.4108 H   0  0  0  0  0  0  0  0  0  0  0  0\n",
      "    9.7561    2.7686   -0.8516 H   0  0  0  0  0  0  0  0  0  0  0  0\n",
      "    8.7457    0.1091    0.4117 H   0  0  0  0  0  0  0  0  0  0  0  0\n",
      "    9.2376    1.5378    1.4540 H   0  0  0  0  0  0  0  0  0  0  0  0\n",
      "    7.4283    2.7886    0.7605 H   0  0  0  0  0  0  0  0  0  0  0  0\n",
      "    6.8717    1.4415   -0.3973 H   0  0  0  0  0  0  0  0  0  0  0  0\n",
      "    7.4666    1.0397    2.5704 H   0  0  0  0  0  0  0  0  0  0  0  0\n",
      "    6.8250   -0.1523    1.4221 H   0  0  0  0  0  0  0  0  0  0  0  0\n",
      "    5.3147    2.3152    2.3827 H   0  0  0  0  0  0  0  0  0  0  0  0\n",
      "    5.0331    0.6811    2.9816 H   0  0  0  0  0  0  0  0  0  0  0  0\n",
      "    4.4606    1.7726    0.1538 H   0  0  0  0  0  0  0  0  0  0  0  0\n",
      "    3.3305    1.1589    1.3738 H   0  0  0  0  0  0  0  0  0  0  0  0\n",
      "    5.4528   -0.4775   -0.0482 H   0  0  0  0  0  0  0  0  0  0  0  0\n",
      "    4.3946   -1.1236    1.2068 H   0  0  0  0  0  0  0  0  0  0  0  0\n",
      "    3.5676   -1.5780   -1.1147 H   0  0  0  0  0  0  0  0  0  0  0  0\n",
      "    3.6384    0.2190   -1.4631 H   0  0  0  0  0  0  0  0  0  0  0  0\n",
      "    1.8187    0.5675    0.2210 H   0  0  0  0  0  0  0  0  0  0  0  0\n",
      "    1.7348   -1.1916    0.5031 H   0  0  0  0  0  0  0  0  0  0  0  0\n",
      "    1.3321   -1.5910   -1.8974 H   0  0  0  0  0  0  0  0  0  0  0  0\n",
      "    1.4561    0.1775   -2.2209 H   0  0  0  0  0  0  0  0  0  0  0  0\n",
      "   -0.8472   -0.5079   -2.1465 H   0  0  0  0  0  0  0  0  0  0  0  0\n",
      "   -0.6770   -1.4010   -0.6372 H   0  0  0  0  0  0  0  0  0  0  0  0\n",
      "   -0.2937    0.7436    0.6105 H   0  0  0  0  0  0  0  0  0  0  0  0\n",
      "   -0.5491    1.6616   -0.9478 H   0  0  0  0  0  0  0  0  0  0  0  0\n",
      "   -2.3843   -0.3589    0.4302 H   0  0  0  0  0  0  0  0  0  0  0  0\n",
      "   -2.5839    1.4849    0.3893 H   0  0  0  0  0  0  0  0  0  0  0  0\n",
      "   -2.9424    1.4433   -1.9882 H   0  0  0  0  0  0  0  0  0  0  0  0\n",
      "   -2.8260   -0.3690   -2.0630 H   0  0  0  0  0  0  0  0  0  0  0  0\n",
      "   -5.0856    0.3973   -1.9972 H   0  0  0  0  0  0  0  0  0  0  0  0\n",
      "   -4.8590    1.2170   -0.4270 H   0  0  0  0  0  0  0  0  0  0  0  0\n",
      "   -5.4795   -1.4701   -0.9037 H   0  0  0  0  0  0  0  0  0  0  0  0\n",
      "   -3.9057   -1.4604   -0.3487 H   0  0  0  0  0  0  0  0  0  0  0  0\n",
      "   -5.7869    0.2461    1.1498 H   0  0  0  0  0  0  0  0  0  0  0  0\n",
      "   -4.3558   -0.6400    1.6838 H   0  0  0  0  0  0  0  0  0  0  0  0\n",
      "   -6.2964   -1.5983    2.6153 H   0  0  0  0  0  0  0  0  0  0  0  0\n",
      "   -5.3241   -2.7481    1.6975 H   0  0  0  0  0  0  0  0  0  0  0  0\n",
      "   -7.5328   -3.3293    1.4809 H   0  0  0  0  0  0  0  0  0  0  0  0\n",
      "   -7.0928   -2.7798   -0.1251 H   0  0  0  0  0  0  0  0  0  0  0  0\n",
      "   -9.2371   -1.8541    1.5048 H   0  0  0  0  0  0  0  0  0  0  0  0\n",
      "  -10.8113   -0.8125    1.6615 H   0  0  0  0  0  0  0  0  0  0  0  0\n",
      "  -11.7241    0.6736    1.1119 H   0  0  0  0  0  0  0  0  0  0  0  0\n",
      "   -9.8638    2.5550    0.1875 H   0  0  0  0  0  0  0  0  0  0  0  0\n",
      "  -10.9309    1.6786   -1.0314 H   0  0  0  0  0  0  0  0  0  0  0  0\n",
      "   -9.1041    1.7206   -1.1846 H   0  0  0  0  0  0  0  0  0  0  0  0\n",
      "  1  2  2  0\n",
      "  2  3  1  0\n",
      "  3  4  2  0\n",
      "  4  5  1  0\n",
      "  5  6  1  0\n",
      "  6  7  1  0\n",
      "  7  8  1  0\n",
      "  8  9  1  0\n",
      "  9 10  1  0\n",
      " 10 11  1  0\n",
      " 11 12  1  0\n",
      " 12 13  1  0\n",
      " 13 14  1  0\n",
      " 14 15  1  0\n",
      " 15 16  1  0\n",
      " 16 17  1  0\n",
      " 17 18  1  0\n",
      " 18 19  1  0\n",
      " 19 20  1  0\n",
      " 20 21  1  0\n",
      " 21 22  1  0\n",
      " 22 23  1  0\n",
      " 23 24  1  0\n",
      " 24 25  2  0\n",
      " 24 26  1  0\n",
      " 26 27  2  0\n",
      " 26 28  1  0\n",
      "  1 29  1  0\n",
      "  1 30  1  0\n",
      "  2 31  1  0\n",
      "  3 32  1  0\n",
      "  4 33  1  0\n",
      "  5 34  1  0\n",
      "  5 35  1  0\n",
      "  6 36  1  0\n",
      "  6 37  1  0\n",
      "  7 38  1  0\n",
      "  7 39  1  0\n",
      "  8 40  1  0\n",
      "  8 41  1  0\n",
      "  9 42  1  0\n",
      "  9 43  1  0\n",
      " 10 44  1  0\n",
      " 10 45  1  0\n",
      " 11 46  1  0\n",
      " 11 47  1  0\n",
      " 12 48  1  0\n",
      " 12 49  1  0\n",
      " 13 50  1  0\n",
      " 13 51  1  0\n",
      " 14 52  1  0\n",
      " 14 53  1  0\n",
      " 15 54  1  0\n",
      " 15 55  1  0\n",
      " 16 56  1  0\n",
      " 16 57  1  0\n",
      " 17 58  1  0\n",
      " 17 59  1  0\n",
      " 18 60  1  0\n",
      " 18 61  1  0\n",
      " 19 62  1  0\n",
      " 19 63  1  0\n",
      " 20 64  1  0\n",
      " 20 65  1  0\n",
      " 21 66  1  0\n",
      " 21 67  1  0\n",
      " 22 68  1  0\n",
      " 22 69  1  0\n",
      " 23 70  1  0\n",
      " 27 71  1  0\n",
      " 27 72  1  0\n",
      " 28 73  1  0\n",
      " 28 74  1  0\n",
      " 28 75  1  0\n",
      "M  CHG  1  19   1\n",
      "M  END\n",
      "\n"
     ]
    }
   ],
   "source": [
    "# create a configuration with RDkit.  Note - had to try a couple of \n",
    "# different seeds to get the stereochemistry on the carbonyl to match the picture. \n",
    "AllChem.EmbedMolecule(mymol_rd,randomSeed=0xf00f) \n",
    "print(Chem.MolToMolBlock(mymol_rd))"
   ]
  },
  {
   "cell_type": "code",
   "execution_count": 10,
   "id": "70964aca",
   "metadata": {},
   "outputs": [],
   "source": [
    "# Now let's look at it to make sure it's right.  This doesn't have the counterion.\n",
    "import nglview as nv"
   ]
  },
  {
   "cell_type": "code",
   "execution_count": 11,
   "id": "60bbcf3c",
   "metadata": {},
   "outputs": [],
   "source": [
    "view = nv.show_rdkit(mymol_rd,fmt=\"SDK\")"
   ]
  },
  {
   "cell_type": "code",
   "execution_count": 12,
   "id": "d583b44f",
   "metadata": {},
   "outputs": [
    {
     "data": {
      "application/vnd.jupyter.widget-view+json": {
       "model_id": "ac0fb7cb62424603b930d86cca8d1609",
       "version_major": 2,
       "version_minor": 0
      },
      "text/plain": [
       "NGLWidget()"
      ]
     },
     "metadata": {},
     "output_type": "display_data"
    }
   ],
   "source": [
    "view"
   ]
  },
  {
   "cell_type": "code",
   "execution_count": 13,
   "id": "ac5a3b0a",
   "metadata": {},
   "outputs": [],
   "source": [
    "#Output the molecule to a pdb file\n",
    "Chem.rdmolfiles.MolToPDBFile(mymol_rd,\"monomer_before_minima.pdb\")"
   ]
  },
  {
   "cell_type": "code",
   "execution_count": 14,
   "id": "27cb3eb5",
   "metadata": {},
   "outputs": [],
   "source": [
    "# we need to add the counterion back in."
   ]
  },
  {
   "cell_type": "code",
   "execution_count": 15,
   "id": "2002adc5",
   "metadata": {},
   "outputs": [],
   "source": [
    "#First, load in the pdb.\n",
    "f = open(\"monomer_before_minima.pdb\",\"r\")\n",
    "lines = f.readlines()\n",
    "f.close()\n",
    "f = open(\"monomer_with_counterion.pdb\",\"w\")\n",
    "firstconect = False\n",
    "counterion = 'BR'\n",
    "#counterion = 'CL'  # only works for monoatomic counterion\n",
    "for l in lines:\n",
    "    #figure out what line we are on currently\n",
    "    if \"HETATM\" in l:\n",
    "        atomn = int(l[6:12])\n",
    "    if \"HETATM\" not in l and firstconect==False:\n",
    "        cline = f\"HETATM {atomn+1:4d}  {counterion:2s}1 UNL     1     -10.000  -5.000  -5.000  1.00  0.00           {counterion:2s}1-\\n\"\n",
    "        f.write(cline)\n",
    "        firstconect = True\n",
    "    f.write(l)\n",
    "f.close()    "
   ]
  },
  {
   "cell_type": "code",
   "execution_count": 16,
   "id": "bdbb3e8d",
   "metadata": {},
   "outputs": [],
   "source": [
    "forcefield = openff.toolkit.ForceField(\"openff-2.0.0.offxml\")"
   ]
  },
  {
   "cell_type": "code",
   "execution_count": 17,
   "id": "a000d02c",
   "metadata": {},
   "outputs": [],
   "source": [
    "from openff.interchange import Interchange"
   ]
  },
  {
   "cell_type": "code",
   "execution_count": 18,
   "id": "573826ab",
   "metadata": {},
   "outputs": [],
   "source": [
    "# this will take a little while since it has to run AM1-BCC for charges. I tihnk it's running ELF10?\n",
    "interchange = Interchange.from_smirnoff(\n",
    "    force_field=forcefield,\n",
    "    topology=off_topology,\n",
    ")\n"
   ]
  },
  {
   "cell_type": "code",
   "execution_count": 19,
   "id": "9ee2e9f7",
   "metadata": {},
   "outputs": [],
   "source": [
    "# load in coordiates from the new pdb\n",
    "pdb = PDBFile('monomer_with_counterion.pdb')\n",
    "interchange.positions = pdb.positions"
   ]
  },
  {
   "cell_type": "code",
   "execution_count": 20,
   "id": "075b5798",
   "metadata": {},
   "outputs": [],
   "source": [
    "# need to do some unit conversion with both packages\n",
    "from openmm.unit import kelvin, picosecond, picoseconds, nanometer\n",
    "\n",
    "openmm_sys = interchange.to_openmm(combine_nonbonded_forces=True)\n",
    "openmm_top = interchange.topology.to_openmm()\n",
    "openmm_pos = interchange.positions.m_as(unit.nanometer) * nanometer"
   ]
  },
  {
   "cell_type": "code",
   "execution_count": null,
   "id": "139aa4bb",
   "metadata": {},
   "outputs": [],
   "source": []
  },
  {
   "cell_type": "code",
   "execution_count": 21,
   "id": "5ac7f6b0",
   "metadata": {},
   "outputs": [
    {
     "name": "stdout",
     "output_type": "stream",
     "text": [
      "#\"Step\",\"Potential Energy (kJ/mole)\",\"Temperature (K)\"\n",
      "1000,350.53009033203125,138.06352770425778\n"
     ]
    }
   ],
   "source": [
    "from openmm import LangevinMiddleIntegrator\n",
    "from openmm.app import Simulation, PDBReporter, StateDataReporter\n",
    "\n",
    "# minimize in openmm, then run 1000 steps of MD simulation.\n",
    "integrator = LangevinMiddleIntegrator(300*kelvin, 1/picosecond, 0.0005*picoseconds)\n",
    "simulation = Simulation(openmm_top, openmm_sys, integrator)\n",
    "simulation.context.setPositions(openmm_pos)\n",
    "simulation.minimizeEnergy()\n",
    "simulation.reporters.append(PDBReporter('md_output.pdb', 1000))\n",
    "simulation.reporters.append(StateDataReporter(stdout, 1000, step=True,\n",
    "        potentialEnergy=True, temperature=True))\n",
    "simulation.step(1000)"
   ]
  },
  {
   "cell_type": "code",
   "execution_count": null,
   "id": "a0e7f72d",
   "metadata": {},
   "outputs": [],
   "source": [
    "# look at the output structure to make sure it's reasonable."
   ]
  },
  {
   "cell_type": "code",
   "execution_count": 22,
   "id": "a815b741",
   "metadata": {},
   "outputs": [],
   "source": [
    "view2=nv.show_file('md_output.pdb')"
   ]
  },
  {
   "cell_type": "code",
   "execution_count": 23,
   "id": "942d1d33",
   "metadata": {},
   "outputs": [
    {
     "data": {
      "application/vnd.jupyter.widget-view+json": {
       "model_id": "2b4b2796d97841488c4fb4e30a577b0f",
       "version_major": 2,
       "version_minor": 0
      },
      "text/plain": [
       "NGLWidget()"
      ]
     },
     "metadata": {},
     "output_type": "display_data"
    }
   ],
   "source": [
    "view2"
   ]
  },
  {
   "cell_type": "code",
   "execution_count": 24,
   "id": "ecee4ffe",
   "metadata": {},
   "outputs": [
    {
     "name": "stderr",
     "output_type": "stream",
     "text": [
      "/Users/mrshirts/opt/anaconda3/envs/openff/lib/python3.9/site-packages/openff/interchange/interop/internal/gromacs.py:164: UserWarning: WARNING: System defined with no box vectors, which GROMACS does not offically support in versions 2020 or newer (see https://gitlab.com/gromacs/gromacs/-/issues/3526). Setting box vectors to a 5  nm cube.\n",
      "  warnings.warn(\n"
     ]
    }
   ],
   "source": [
    "# now convert the system to to AA GROMACS files for a single monomer + counterion. \n",
    "#The warning is fine, the box can be whatever size.\n",
    "pdb = PDBFile('md_output.pdb')\n",
    "interchange.positions = pdb.positions\n",
    "interchange.to_gro(\"monomer.gro\")\n",
    "interchange.to_top(\"monomer.top\")"
   ]
  },
  {
   "cell_type": "code",
   "execution_count": null,
   "id": "f87d4420",
   "metadata": {},
   "outputs": [],
   "source": [
    "# note that it produces a full system file, this needs to be edited into a system top and a single molecule .itp. "
   ]
  },
  {
   "cell_type": "code",
   "execution_count": null,
   "id": "e6da9eea",
   "metadata": {},
   "outputs": [],
   "source": [
    "# we need OpenFF glycerol as well. "
   ]
  },
  {
   "cell_type": "code",
   "execution_count": 25,
   "id": "d5996831",
   "metadata": {},
   "outputs": [
    {
     "data": {
      "image/svg+xml": [
       "<svg xmlns=\"http://www.w3.org/2000/svg\" xmlns:rdkit=\"http://www.rdkit.org/xml\" xmlns:xlink=\"http://www.w3.org/1999/xlink\" version=\"1.1\" baseProfile=\"full\" xml:space=\"preserve\" width=\"500px\" height=\"300px\" viewBox=\"0 0 500 300\">\n",
       "<!-- END OF HEADER -->\n",
       "<rect style=\"opacity:1.0;fill:#FFFFFF;stroke:none\" width=\"500.0\" height=\"300.0\" x=\"0.0\" y=\"0.0\"> </rect>\n",
       "<path class=\"bond-0 atom-0 atom-1\" d=\"M 330.8,174.0 L 330.8,198.7\" style=\"fill:none;fill-rule:evenodd;stroke:#000000;stroke-width:2.0px;stroke-linecap:butt;stroke-linejoin:miter;stroke-opacity:1\"/>\n",
       "<path class=\"bond-0 atom-0 atom-1\" d=\"M 330.8,198.7 L 330.8,223.4\" style=\"fill:none;fill-rule:evenodd;stroke:#FF0000;stroke-width:2.0px;stroke-linecap:butt;stroke-linejoin:miter;stroke-opacity:1\"/>\n",
       "<path class=\"bond-1 atom-0 atom-2\" d=\"M 330.8,174.0 L 274.0,141.2\" style=\"fill:none;fill-rule:evenodd;stroke:#000000;stroke-width:2.0px;stroke-linecap:butt;stroke-linejoin:miter;stroke-opacity:1\"/>\n",
       "<path class=\"bond-2 atom-2 atom-3\" d=\"M 274.0,141.2 L 262.4,121.1\" style=\"fill:none;fill-rule:evenodd;stroke:#000000;stroke-width:2.0px;stroke-linecap:butt;stroke-linejoin:miter;stroke-opacity:1\"/>\n",
       "<path class=\"bond-2 atom-2 atom-3\" d=\"M 262.4,121.1 L 250.8,101.1\" style=\"fill:none;fill-rule:evenodd;stroke:#FF0000;stroke-width:2.0px;stroke-linecap:butt;stroke-linejoin:miter;stroke-opacity:1\"/>\n",
       "<path class=\"bond-3 atom-2 atom-4\" d=\"M 274.0,141.2 L 217.2,174.0\" style=\"fill:none;fill-rule:evenodd;stroke:#000000;stroke-width:2.0px;stroke-linecap:butt;stroke-linejoin:miter;stroke-opacity:1\"/>\n",
       "<path class=\"bond-4 atom-4 atom-5\" d=\"M 217.2,174.0 L 196.3,161.9\" style=\"fill:none;fill-rule:evenodd;stroke:#000000;stroke-width:2.0px;stroke-linecap:butt;stroke-linejoin:miter;stroke-opacity:1\"/>\n",
       "<path class=\"bond-4 atom-4 atom-5\" d=\"M 196.3,161.9 L 175.3,149.8\" style=\"fill:none;fill-rule:evenodd;stroke:#FF0000;stroke-width:2.0px;stroke-linecap:butt;stroke-linejoin:miter;stroke-opacity:1\"/>\n",
       "<path class=\"bond-5 atom-0 atom-6\" d=\"M 330.8,174.0 L 354.3,133.3\" style=\"fill:none;fill-rule:evenodd;stroke:#000000;stroke-width:2.0px;stroke-linecap:butt;stroke-linejoin:miter;stroke-opacity:1\"/>\n",
       "<path class=\"bond-6 atom-0 atom-7\" d=\"M 330.8,174.0 L 383.4,174.0\" style=\"fill:none;fill-rule:evenodd;stroke:#000000;stroke-width:2.0px;stroke-linecap:butt;stroke-linejoin:miter;stroke-opacity:1\"/>\n",
       "<path class=\"bond-7 atom-1 atom-8\" d=\"M 345.8,248.3 L 360.2,256.6\" style=\"fill:none;fill-rule:evenodd;stroke:#FF0000;stroke-width:2.0px;stroke-linecap:butt;stroke-linejoin:miter;stroke-opacity:1\"/>\n",
       "<path class=\"bond-7 atom-1 atom-8\" d=\"M 360.2,256.6 L 374.6,264.9\" style=\"fill:none;fill-rule:evenodd;stroke:#000000;stroke-width:2.0px;stroke-linecap:butt;stroke-linejoin:miter;stroke-opacity:1\"/>\n",
       "<path class=\"bond-8 atom-2 atom-9\" d=\"M 274.0,141.2 L 297.5,100.5\" style=\"fill:none;fill-rule:evenodd;stroke:#000000;stroke-width:2.0px;stroke-linecap:butt;stroke-linejoin:miter;stroke-opacity:1\"/>\n",
       "<path class=\"bond-9 atom-3 atom-10\" d=\"M 250.6,68.1 L 257.7,55.9\" style=\"fill:none;fill-rule:evenodd;stroke:#FF0000;stroke-width:2.0px;stroke-linecap:butt;stroke-linejoin:miter;stroke-opacity:1\"/>\n",
       "<path class=\"bond-9 atom-3 atom-10\" d=\"M 257.7,55.9 L 264.7,43.7\" style=\"fill:none;fill-rule:evenodd;stroke:#000000;stroke-width:2.0px;stroke-linecap:butt;stroke-linejoin:miter;stroke-opacity:1\"/>\n",
       "<path class=\"bond-10 atom-4 atom-11\" d=\"M 217.2,174.0 L 240.7,214.7\" style=\"fill:none;fill-rule:evenodd;stroke:#000000;stroke-width:2.0px;stroke-linecap:butt;stroke-linejoin:miter;stroke-opacity:1\"/>\n",
       "<path class=\"bond-11 atom-4 atom-12\" d=\"M 217.2,174.0 L 193.7,214.7\" style=\"fill:none;fill-rule:evenodd;stroke:#000000;stroke-width:2.0px;stroke-linecap:butt;stroke-linejoin:miter;stroke-opacity:1\"/>\n",
       "<path class=\"bond-12 atom-5 atom-13\" d=\"M 145.4,149.8 L 131.0,158.2\" style=\"fill:none;fill-rule:evenodd;stroke:#FF0000;stroke-width:2.0px;stroke-linecap:butt;stroke-linejoin:miter;stroke-opacity:1\"/>\n",
       "<path class=\"bond-12 atom-5 atom-13\" d=\"M 131.0,158.2 L 116.6,166.5\" style=\"fill:none;fill-rule:evenodd;stroke:#000000;stroke-width:2.0px;stroke-linecap:butt;stroke-linejoin:miter;stroke-opacity:1\"/>\n",
       "<path class=\"atom-1\" d=\"M 318.0 239.7 Q 318.0 233.0, 321.3 229.3 Q 324.7 225.5, 330.8 225.5 Q 337.0 225.5, 340.3 229.3 Q 343.6 233.0, 343.6 239.7 Q 343.6 246.5, 340.3 250.3 Q 336.9 254.1, 330.8 254.1 Q 324.7 254.1, 321.3 250.3 Q 318.0 246.5, 318.0 239.7 M 330.8 251.0 Q 335.1 251.0, 337.4 248.2 Q 339.7 245.3, 339.7 239.7 Q 339.7 234.2, 337.4 231.5 Q 335.1 228.7, 330.8 228.7 Q 326.6 228.7, 324.3 231.4 Q 322.0 234.2, 322.0 239.7 Q 322.0 245.3, 324.3 248.2 Q 326.6 251.0, 330.8 251.0 \" fill=\"#FF0000\"/>\n",
       "<path class=\"atom-3\" d=\"M 228.4 84.5 Q 228.4 77.8, 231.7 74.0 Q 235.0 70.3, 241.2 70.3 Q 247.4 70.3, 250.7 74.0 Q 254.0 77.8, 254.0 84.5 Q 254.0 91.2, 250.7 95.1 Q 247.3 98.9, 241.2 98.9 Q 235.1 98.9, 231.7 95.1 Q 228.4 91.3, 228.4 84.5 M 241.2 95.8 Q 245.5 95.8, 247.7 92.9 Q 250.1 90.1, 250.1 84.5 Q 250.1 79.0, 247.7 76.2 Q 245.5 73.4, 241.2 73.4 Q 237.0 73.4, 234.6 76.2 Q 232.4 79.0, 232.4 84.5 Q 232.4 90.1, 234.6 92.9 Q 237.0 95.8, 241.2 95.8 \" fill=\"#FF0000\"/>\n",
       "<path class=\"atom-5\" d=\"M 147.6 141.3 Q 147.6 134.6, 150.9 130.9 Q 154.2 127.1, 160.4 127.1 Q 166.6 127.1, 169.9 130.9 Q 173.2 134.6, 173.2 141.3 Q 173.2 148.1, 169.8 151.9 Q 166.5 155.7, 160.4 155.7 Q 154.2 155.7, 150.9 151.9 Q 147.6 148.1, 147.6 141.3 M 160.4 152.6 Q 164.6 152.6, 166.9 149.8 Q 169.2 146.9, 169.2 141.3 Q 169.2 135.8, 166.9 133.1 Q 164.6 130.3, 160.4 130.3 Q 156.1 130.3, 153.8 133.0 Q 151.5 135.8, 151.5 141.3 Q 151.5 146.9, 153.8 149.8 Q 156.1 152.6, 160.4 152.6 \" fill=\"#FF0000\"/>\n",
       "<path class=\"atom-6\" d=\"M 352.7 103.3 L 356.5 103.3 L 356.5 115.1 L 370.8 115.1 L 370.8 103.3 L 374.5 103.3 L 374.5 131.1 L 370.8 131.1 L 370.8 118.3 L 356.5 118.3 L 356.5 131.1 L 352.7 131.1 L 352.7 103.3 \" fill=\"#000000\"/>\n",
       "<path class=\"atom-7\" d=\"M 385.5 160.1 L 389.3 160.1 L 389.3 171.9 L 403.6 171.9 L 403.6 160.1 L 407.3 160.1 L 407.3 187.9 L 403.6 187.9 L 403.6 175.1 L 389.3 175.1 L 389.3 187.9 L 385.5 187.9 L 385.5 160.1 \" fill=\"#000000\"/>\n",
       "<path class=\"atom-8\" d=\"M 376.7 258.5 L 380.5 258.5 L 380.5 270.3 L 394.8 270.3 L 394.8 258.5 L 398.6 258.5 L 398.6 286.4 L 394.8 286.4 L 394.8 273.5 L 380.5 273.5 L 380.5 286.4 L 376.7 286.4 L 376.7 258.5 \" fill=\"#000000\"/>\n",
       "<path class=\"atom-9\" d=\"M 295.9 70.5 L 299.7 70.5 L 299.7 82.3 L 313.9 82.3 L 313.9 70.5 L 317.7 70.5 L 317.7 98.3 L 313.9 98.3 L 313.9 85.5 L 299.7 85.5 L 299.7 98.3 L 295.9 98.3 L 295.9 70.5 \" fill=\"#000000\"/>\n",
       "<path class=\"atom-10\" d=\"M 263.1 13.6 L 266.9 13.6 L 266.9 25.5 L 281.1 25.5 L 281.1 13.6 L 284.9 13.6 L 284.9 41.5 L 281.1 41.5 L 281.1 28.6 L 266.9 28.6 L 266.9 41.5 L 263.1 41.5 L 263.1 13.6 \" fill=\"#000000\"/>\n",
       "<path class=\"atom-11\" d=\"M 239.1 216.9 L 242.9 216.9 L 242.9 228.7 L 257.1 228.7 L 257.1 216.9 L 260.9 216.9 L 260.9 244.8 L 257.1 244.8 L 257.1 231.9 L 242.9 231.9 L 242.9 244.8 L 239.1 244.8 L 239.1 216.9 \" fill=\"#000000\"/>\n",
       "<path class=\"atom-12\" d=\"M 173.5 216.9 L 177.3 216.9 L 177.3 228.7 L 191.5 228.7 L 191.5 216.9 L 195.3 216.9 L 195.3 244.8 L 191.5 244.8 L 191.5 231.9 L 177.3 231.9 L 177.3 244.8 L 173.5 244.8 L 173.5 216.9 \" fill=\"#000000\"/>\n",
       "<path class=\"atom-13\" d=\"M 92.7 160.1 L 96.4 160.1 L 96.4 171.9 L 110.7 171.9 L 110.7 160.1 L 114.5 160.1 L 114.5 187.9 L 110.7 187.9 L 110.7 175.1 L 96.4 175.1 L 96.4 187.9 L 92.7 187.9 L 92.7 160.1 \" fill=\"#000000\"/>\n",
       "</svg>"
      ],
      "text/plain": [
       "<IPython.core.display.SVG object>"
      ]
     },
     "execution_count": 25,
     "metadata": {},
     "output_type": "execute_result"
    }
   ],
   "source": [
    "# create the molecule with RDkit from the SMILES. \n",
    "Molecule = openff.toolkit.topology.Molecule\n",
    "solmol = Molecule.from_smiles('C(O)C(O)C(O)')\n",
    "solmol.visualize()"
   ]
  },
  {
   "cell_type": "code",
   "execution_count": null,
   "id": "de390d73",
   "metadata": {},
   "outputs": [],
   "source": []
  },
  {
   "cell_type": "code",
   "execution_count": 26,
   "id": "acbb49cd",
   "metadata": {},
   "outputs": [],
   "source": [
    "solmol_rd = solmol.to_rdkit()"
   ]
  },
  {
   "cell_type": "code",
   "execution_count": 22,
   "id": "f4a575cb",
   "metadata": {},
   "outputs": [],
   "source": []
  },
  {
   "cell_type": "code",
   "execution_count": 27,
   "id": "9a62987a",
   "metadata": {},
   "outputs": [
    {
     "name": "stdout",
     "output_type": "stream",
     "text": [
      "\n",
      "     RDKit          3D\n",
      "\n",
      " 14 13  0  0  0  0  0  0  0  0999 V2000\n",
      "   -1.3192   -0.1447   -0.1246 C   0  0  0  0  0  0  0  0  0  0  0  0\n",
      "   -1.4595   -1.5190   -0.1244 O   0  0  0  0  0  0  0  0  0  0  0  0\n",
      "    0.0571    0.3028    0.2941 C   0  0  0  0  0  0  0  0  0  0  0  0\n",
      "    0.0906    1.6969    0.2596 O   0  0  0  0  0  0  0  0  0  0  0  0\n",
      "    1.1350   -0.2041   -0.6241 C   0  0  0  0  0  0  0  0  0  0  0  0\n",
      "    2.3540    0.3008   -0.1278 O   0  0  0  0  0  0  0  0  0  0  0  0\n",
      "   -2.0393    0.3455    0.5822 H   0  0  0  0  0  0  0  0  0  0  0  0\n",
      "   -1.5576    0.2258   -1.1434 H   0  0  0  0  0  0  0  0  0  0  0  0\n",
      "   -1.4720   -1.8782    0.7963 H   0  0  0  0  0  0  0  0  0  0  0  0\n",
      "    0.2371    0.0056    1.3475 H   0  0  0  0  0  0  0  0  0  0  0  0\n",
      "   -0.8142    2.0210    0.4539 H   0  0  0  0  0  0  0  0  0  0  0  0\n",
      "    1.1861   -1.2935   -0.7001 H   0  0  0  0  0  0  0  0  0  0  0  0\n",
      "    1.0042    0.2553   -1.6245 H   0  0  0  0  0  0  0  0  0  0  0  0\n",
      "    2.5978   -0.1140    0.7354 H   0  0  0  0  0  0  0  0  0  0  0  0\n",
      "  1  2  1  0\n",
      "  1  3  1  0\n",
      "  3  4  1  0\n",
      "  3  5  1  0\n",
      "  5  6  1  0\n",
      "  1  7  1  0\n",
      "  1  8  1  0\n",
      "  2  9  1  0\n",
      "  3 10  1  0\n",
      "  4 11  1  0\n",
      "  5 12  1  0\n",
      "  5 13  1  0\n",
      "  6 14  1  0\n",
      "M  END\n",
      "\n"
     ]
    }
   ],
   "source": [
    "# create a configuration with RDkit.  Note - had to try a couple of \n",
    "# different seeds to get the stereochemistry on the carbonyl to match the picture. \n",
    "AllChem.EmbedMolecule(solmol_rd,randomSeed=0xf00f) \n",
    "print(Chem.MolToMolBlock(solmol_rd))"
   ]
  },
  {
   "cell_type": "code",
   "execution_count": 28,
   "id": "324fa7a7",
   "metadata": {},
   "outputs": [],
   "source": [
    "view = nv.show_rdkit(solmol_rd,fmt=\"SDK\")"
   ]
  },
  {
   "cell_type": "code",
   "execution_count": 29,
   "id": "7fd2ba6c",
   "metadata": {},
   "outputs": [
    {
     "data": {
      "application/vnd.jupyter.widget-view+json": {
       "model_id": "c5e621708ecd4771ad4a3a38c2bc9966",
       "version_major": 2,
       "version_minor": 0
      },
      "text/plain": [
       "NGLWidget()"
      ]
     },
     "metadata": {},
     "output_type": "display_data"
    }
   ],
   "source": [
    "view"
   ]
  },
  {
   "cell_type": "code",
   "execution_count": 30,
   "id": "900a056f",
   "metadata": {},
   "outputs": [],
   "source": [
    "#Output the molecule to a pdb file\n",
    "Chem.rdmolfiles.MolToPDBFile(solmol_rd,\"solvent_before_minima.pdb\")"
   ]
  },
  {
   "cell_type": "code",
   "execution_count": 31,
   "id": "a5f9ff19",
   "metadata": {},
   "outputs": [],
   "source": [
    "# create OpenFF topology.\n",
    "off_topology = Topology()\n",
    "molecule_topology_indices = [off_topology.add_molecule(solmol) for index in range(1)]"
   ]
  },
  {
   "cell_type": "code",
   "execution_count": 33,
   "id": "d064a90d",
   "metadata": {},
   "outputs": [],
   "source": [
    "# this will be fast since the molecule is small. \n",
    "interchange = Interchange.from_smirnoff(\n",
    "    force_field=forcefield,\n",
    "    topology=off_topology,\n",
    ")\n"
   ]
  },
  {
   "cell_type": "code",
   "execution_count": 34,
   "id": "f8d05e7f",
   "metadata": {},
   "outputs": [],
   "source": [
    "# load in coordiates from the new glycerol pdb\n",
    "pdb = PDBFile('solvent_before_minima.pdb')\n",
    "interchange.positions = pdb.positions"
   ]
  },
  {
   "cell_type": "code",
   "execution_count": 35,
   "id": "1525d8f8",
   "metadata": {},
   "outputs": [],
   "source": [
    "# need to do some unit conversion with both packages\n",
    "openmm_sys = interchange.to_openmm(combine_nonbonded_forces=True)\n",
    "openmm_top = interchange.topology.to_openmm()\n",
    "openmm_pos = interchange.positions.m_as(unit.nanometer) * nanometer"
   ]
  },
  {
   "cell_type": "code",
   "execution_count": 36,
   "id": "f78dae94",
   "metadata": {},
   "outputs": [
    {
     "name": "stdout",
     "output_type": "stream",
     "text": [
      "#\"Step\",\"Potential Energy (kJ/mole)\",\"Temperature (K)\"\n",
      "1000,202.6815185546875,165.82355933201453\n"
     ]
    }
   ],
   "source": [
    "# minimize in openmm, then run 1000 steps of MD simulation.\n",
    "integrator = LangevinMiddleIntegrator(300*kelvin, 1/picosecond, 0.0005*picoseconds)\n",
    "simulation = Simulation(openmm_top, openmm_sys, integrator)\n",
    "simulation.context.setPositions(openmm_pos)\n",
    "simulation.minimizeEnergy()\n",
    "simulation.reporters.append(PDBReporter('sol_output.pdb', 1000))\n",
    "simulation.reporters.append(StateDataReporter(stdout, 1000, step=True,\n",
    "        potentialEnergy=True, temperature=True))\n",
    "simulation.step(1000)"
   ]
  },
  {
   "cell_type": "code",
   "execution_count": null,
   "id": "86e56b48",
   "metadata": {},
   "outputs": [],
   "source": [
    "# look at the output structure to make sure it's reasonable."
   ]
  },
  {
   "cell_type": "code",
   "execution_count": 37,
   "id": "b67e783c",
   "metadata": {},
   "outputs": [],
   "source": [
    "view2=nv.show_file('sol_output.pdb')"
   ]
  },
  {
   "cell_type": "code",
   "execution_count": 38,
   "id": "50a27998",
   "metadata": {},
   "outputs": [
    {
     "data": {
      "application/vnd.jupyter.widget-view+json": {
       "model_id": "de419c143a4f422fa899969e836a8411",
       "version_major": 2,
       "version_minor": 0
      },
      "text/plain": [
       "NGLWidget()"
      ]
     },
     "metadata": {},
     "output_type": "display_data"
    }
   ],
   "source": [
    "view2"
   ]
  },
  {
   "cell_type": "code",
   "execution_count": 39,
   "id": "505929de",
   "metadata": {},
   "outputs": [],
   "source": [
    "pdb = PDBFile('sol_output.pdb')\n",
    "interchange.positions = pdb.positions\n",
    "interchange.to_gro(\"solvent.gro\")\n",
    "interchange.to_top(\"solvent.top\")"
   ]
  },
  {
   "cell_type": "code",
   "execution_count": null,
   "id": "207e18b0",
   "metadata": {},
   "outputs": [],
   "source": [
    "# again, will have to edit the .top to get an itp."
   ]
  }
 ],
 "metadata": {
  "kernelspec": {
   "display_name": "Python 3 (ipykernel)",
   "language": "python",
   "name": "python3"
  },
  "language_info": {
   "codemirror_mode": {
    "name": "ipython",
    "version": 3
   },
   "file_extension": ".py",
   "mimetype": "text/x-python",
   "name": "python",
   "nbconvert_exporter": "python",
   "pygments_lexer": "ipython3",
   "version": "3.9.13"
  }
 },
 "nbformat": 4,
 "nbformat_minor": 5
}
